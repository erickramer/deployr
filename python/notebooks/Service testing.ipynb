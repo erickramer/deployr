{
 "cells": [
  {
   "cell_type": "code",
   "execution_count": 9,
   "metadata": {
    "collapsed": false
   },
   "outputs": [],
   "source": [
    "import sys\n",
    "import os\n",
    "import pyRserve\n",
    "sys.path.append(os.getcwd() + \"/../\")"
   ]
  },
  {
   "cell_type": "code",
   "execution_count": 10,
   "metadata": {
    "collapsed": true
   },
   "outputs": [],
   "source": [
    "import deployr.service"
   ]
  },
  {
   "cell_type": "code",
   "execution_count": 11,
   "metadata": {
    "collapsed": false
   },
   "outputs": [
    {
     "name": "stdout",
     "output_type": "stream",
     "text": [
      "\n",
      "R version 3.2.4 (2016-03-10) -- \"Very Secure Dishes\"\n",
      "Copyright (C) 2016 The R Foundation for Statistical Computing\n",
      "Platform: x86_64-apple-darwin13.4.0 (64-bit)\n",
      "\n",
      "R is free software and comes with ABSOLUTELY NO WARRANTY.\n",
      "You are welcome to redistribute it under certain conditions.\n",
      "Type 'license()' or 'licence()' for distribution details.\n",
      "\n",
      "  Natural language support but running in an English locale\n",
      "\n",
      "R is a collaborative project with many contributors.\n",
      "Type 'contributors()' for more information and\n",
      "'citation()' on how to cite R or R packages in publications.\n",
      "\n",
      "Type 'demo()' for some demos, 'help()' for on-line help, or\n",
      "'help.start()' for an HTML browser interface to help.\n",
      "Type 'q()' to quit R.\n",
      "\n",
      "Rserv started in daemon mode.\n"
     ]
    }
   ],
   "source": [
    "!killall Rserve\n",
    "!R CMD Rserve"
   ]
  },
  {
   "cell_type": "code",
   "execution_count": 12,
   "metadata": {
    "collapsed": false
   },
   "outputs": [],
   "source": [
    "rdata = \"/Users/Eric/Projects/deployr/iris_service.Rdata\"\n",
    "s = deployr.service.Service(rdata)"
   ]
  },
  {
   "cell_type": "code",
   "execution_count": 13,
   "metadata": {
    "collapsed": false
   },
   "outputs": [
    {
     "data": {
      "text/plain": [
       "<Handle to Rserve on localhost:6311>"
      ]
     },
     "execution_count": 13,
     "metadata": {},
     "output_type": "execute_result"
    }
   ],
   "source": [
    "s.conn"
   ]
  },
  {
   "cell_type": "code",
   "execution_count": 14,
   "metadata": {
    "collapsed": false
   },
   "outputs": [],
   "source": [
    "json = \"\"\"\n",
    "{\n",
    " \"Sepal.Length\": [    5.1,    4.9,    4.7,    4.6,      5,    5.4,    4.6,      5,    4.4,    4.9,    5.4,    4.8,    4.8,    4.3,    5.8,    5.7,    5.4,    5.1,    5.7,    5.1,    5.4,    5.1,    4.6,    5.1,    4.8,      5,      5,    5.2,    5.2,    4.7,    4.8,    5.4,    5.2,    5.5,    4.9,      5,    5.5,    4.9,    4.4,    5.1,      5,    4.5,    4.4,      5,    5.1,    4.8,    5.1,    4.6,    5.3,      5,      7,    6.4,    6.9,    5.5,    6.5,    5.7,    6.3,    4.9,    6.6,    5.2,      5,    5.9,      6,    6.1,    5.6,    6.7,    5.6,    5.8,    6.2,    5.6,    5.9,    6.1,    6.3,    6.1,    6.4,    6.6,    6.8,    6.7,      6,    5.7,    5.5,    5.5,    5.8,      6,    5.4,      6,    6.7,    6.3,    5.6,    5.5,    5.5,    6.1,    5.8,      5,    5.6,    5.7,    5.7,    6.2,    5.1,    5.7,    6.3,    5.8,    7.1,    6.3,    6.5,    7.6,    4.9,    7.3,    6.7,    7.2,    6.5,    6.4,    6.8,    5.7,    5.8,    6.4,    6.5,    7.7,    7.7,      6,    6.9,    5.6,    7.7,    6.3,    6.7,    7.2,    6.2,    6.1,    6.4,    7.2,    7.4,    7.9,    6.4,    6.3,    6.1,    7.7,    6.3,    6.4,      6,    6.9,    6.7,    6.9,    5.8,    6.8,    6.7,    6.7,    6.3,    6.5,    6.2,    5.9 ],\n",
    "\"Sepal.Width\": [    3.5,      3,    3.2,    3.1,    3.6,    3.9,    3.4,    3.4,    2.9,    3.1,    3.7,    3.4,      3,      3,      4,    4.4,    3.9,    3.5,    3.8,    3.8,    3.4,    3.7,    3.6,    3.3,    3.4,      3,    3.4,    3.5,    3.4,    3.2,    3.1,    3.4,    4.1,    4.2,    3.1,    3.2,    3.5,    3.6,      3,    3.4,    3.5,    2.3,    3.2,    3.5,    3.8,      3,    3.8,    3.2,    3.7,    3.3,    3.2,    3.2,    3.1,    2.3,    2.8,    2.8,    3.3,    2.4,    2.9,    2.7,      2,      3,    2.2,    2.9,    2.9,    3.1,      3,    2.7,    2.2,    2.5,    3.2,    2.8,    2.5,    2.8,    2.9,      3,    2.8,      3,    2.9,    2.6,    2.4,    2.4,    2.7,    2.7,      3,    3.4,    3.1,    2.3,      3,    2.5,    2.6,      3,    2.6,    2.3,    2.7,      3,    2.9,    2.9,    2.5,    2.8,    3.3,    2.7,      3,    2.9,      3,      3,    2.5,    2.9,    2.5,    3.6,    3.2,    2.7,      3,    2.5,    2.8,    3.2,      3,    3.8,    2.6,    2.2,    3.2,    2.8,    2.8,    2.7,    3.3,    3.2,    2.8,      3,    2.8,      3,    2.8,    3.8,    2.8,    2.8,    2.6,      3,    3.4,    3.1,      3,    3.1,    3.1,    3.1,    2.7,    3.2,    3.3,      3,    2.5,      3,    3.4,      3 ],\n",
    "\"Petal.Length\": [    1.4,    1.4,    1.3,    1.5,    1.4,    1.7,    1.4,    1.5,    1.4,    1.5,    1.5,    1.6,    1.4,    1.1,    1.2,    1.5,    1.3,    1.4,    1.7,    1.5,    1.7,    1.5,      1,    1.7,    1.9,    1.6,    1.6,    1.5,    1.4,    1.6,    1.6,    1.5,    1.5,    1.4,    1.5,    1.2,    1.3,    1.4,    1.3,    1.5,    1.3,    1.3,    1.3,    1.6,    1.9,    1.4,    1.6,    1.4,    1.5,    1.4,    4.7,    4.5,    4.9,      4,    4.6,    4.5,    4.7,    3.3,    4.6,    3.9,    3.5,    4.2,      4,    4.7,    3.6,    4.4,    4.5,    4.1,    4.5,    3.9,    4.8,      4,    4.9,    4.7,    4.3,    4.4,    4.8,      5,    4.5,    3.5,    3.8,    3.7,    3.9,    5.1,    4.5,    4.5,    4.7,    4.4,    4.1,      4,    4.4,    4.6,      4,    3.3,    4.2,    4.2,    4.2,    4.3,      3,    4.1,      6,    5.1,    5.9,    5.6,    5.8,    6.6,    4.5,    6.3,    5.8,    6.1,    5.1,    5.3,    5.5,      5,    5.1,    5.3,    5.5,    6.7,    6.9,      5,    5.7,    4.9,    6.7,    4.9,    5.7,      6,    4.8,    4.9,    5.6,    5.8,    6.1,    6.4,    5.6,    5.1,    5.6,    6.1,    5.6,    5.5,    4.8,    5.4,    5.6,    5.1,    5.1,    5.9,    5.7,    5.2,      5,    5.2,    5.4,    5.1 ],\n",
    "\"Petal.Width\": [    0.2,    0.2,    0.2,    0.2,    0.2,    0.4,    0.3,    0.2,    0.2,    0.1,    0.2,    0.2,    0.1,    0.1,    0.2,    0.4,    0.4,    0.3,    0.3,    0.3,    0.2,    0.4,    0.2,    0.5,    0.2,    0.2,    0.4,    0.2,    0.2,    0.2,    0.2,    0.4,    0.1,    0.2,    0.2,    0.2,    0.2,    0.1,    0.2,    0.2,    0.3,    0.3,    0.2,    0.6,    0.4,    0.3,    0.2,    0.2,    0.2,    0.2,    1.4,    1.5,    1.5,    1.3,    1.5,    1.3,    1.6,      1,    1.3,    1.4,      1,    1.5,      1,    1.4,    1.3,    1.4,    1.5,      1,    1.5,    1.1,    1.8,    1.3,    1.5,    1.2,    1.3,    1.4,    1.4,    1.7,    1.5,      1,    1.1,      1,    1.2,    1.6,    1.5,    1.6,    1.5,    1.3,    1.3,    1.3,    1.2,    1.4,    1.2,      1,    1.3,    1.2,    1.3,    1.3,    1.1,    1.3,    2.5,    1.9,    2.1,    1.8,    2.2,    2.1,    1.7,    1.8,    1.8,    2.5,      2,    1.9,    2.1,      2,    2.4,    2.3,    1.8,    2.2,    2.3,    1.5,    2.3,      2,      2,    1.8,    2.1,    1.8,    1.8,    1.8,    2.1,    1.6,    1.9,      2,    2.2,    1.5,    1.4,    2.3,    2.4,    1.8,    1.8,    2.1,    2.4,    2.3,    1.9,    2.3,    2.5,    2.3,    1.9,      2,    2.3,    1.8 ],\n",
    "\"Species\": [ \"setosa\", \"setosa\", \"setosa\", \"setosa\", \"setosa\", \"setosa\", \"setosa\", \"setosa\", \"setosa\", \"setosa\", \"setosa\", \"setosa\", \"setosa\", \"setosa\", \"setosa\", \"setosa\", \"setosa\", \"setosa\", \"setosa\", \"setosa\", \"setosa\", \"setosa\", \"setosa\", \"setosa\", \"setosa\", \"setosa\", \"setosa\", \"setosa\", \"setosa\", \"setosa\", \"setosa\", \"setosa\", \"setosa\", \"setosa\", \"setosa\", \"setosa\", \"setosa\", \"setosa\", \"setosa\", \"setosa\", \"setosa\", \"setosa\", \"setosa\", \"setosa\", \"setosa\", \"setosa\", \"setosa\", \"setosa\", \"setosa\", \"setosa\", \"versicolor\", \"versicolor\", \"versicolor\", \"versicolor\", \"versicolor\", \"versicolor\", \"versicolor\", \"versicolor\", \"versicolor\", \"versicolor\", \"versicolor\", \"versicolor\", \"versicolor\", \"versicolor\", \"versicolor\", \"versicolor\", \"versicolor\", \"versicolor\", \"versicolor\", \"versicolor\", \"versicolor\", \"versicolor\", \"versicolor\", \"versicolor\", \"versicolor\", \"versicolor\", \"versicolor\", \"versicolor\", \"versicolor\", \"versicolor\", \"versicolor\", \"versicolor\", \"versicolor\", \"versicolor\", \"versicolor\", \"versicolor\", \"versicolor\", \"versicolor\", \"versicolor\", \"versicolor\", \"versicolor\", \"versicolor\", \"versicolor\", \"versicolor\", \"versicolor\", \"versicolor\", \"versicolor\", \"versicolor\", \"versicolor\", \"versicolor\", \"virginica\", \"virginica\", \"virginica\", \"virginica\", \"virginica\", \"virginica\", \"virginica\", \"virginica\", \"virginica\", \"virginica\", \"virginica\", \"virginica\", \"virginica\", \"virginica\", \"virginica\", \"virginica\", \"virginica\", \"virginica\", \"virginica\", \"virginica\", \"virginica\", \"virginica\", \"virginica\", \"virginica\", \"virginica\", \"virginica\", \"virginica\", \"virginica\", \"virginica\", \"virginica\", \"virginica\", \"virginica\", \"virginica\", \"virginica\", \"virginica\", \"virginica\", \"virginica\", \"virginica\", \"virginica\", \"virginica\", \"virginica\", \"virginica\", \"virginica\", \"virginica\", \"virginica\", \"virginica\", \"virginica\", \"virginica\", \"virginica\", \"virginica\" ] \n",
    "}\n",
    "\"\"\""
   ]
  },
  {
   "cell_type": "code",
   "execution_count": 15,
   "metadata": {
    "collapsed": false
   },
   "outputs": [
    {
     "data": {
      "text/plain": [
       "'iris'"
      ]
     },
     "execution_count": 15,
     "metadata": {},
     "output_type": "execute_result"
    }
   ],
   "source": [
    "s.list_endpoints()"
   ]
  },
  {
   "cell_type": "code",
   "execution_count": 16,
   "metadata": {
    "collapsed": false
   },
   "outputs": [
    {
     "data": {
      "text/plain": [
       "'{\\n \"metadata\": \"No metadata yet!\",\\n\"results\": \"{\\\\n \\\\\"fit\\\\\": [ 5.0048, 4.7568, 4.7731, 4.8894, 5.0544, 5.3889, 4.9237, 5.0381, 4.7073, 4.9209, 5.1869,  5.121, 4.7884, 4.5396, 5.0869,  5.471, 5.0572, 4.9733, 5.3708,  5.205,  5.204, 5.1239, 4.7227, 5.0598, 5.3698, 4.9227,  5.058, 5.0877, 4.9552, 5.0219, 4.9723, 4.9751, 5.4168, 5.3519, 4.8894, 4.6902, 4.9219, 5.0859, 4.6739, 5.0381, 4.8903, 4.2953, 4.7731, 5.0446, 5.5051, 4.7253, 5.3194,  4.856, 5.1869, 4.9056, 6.4908, 6.2934, 6.5755, 5.4955,  6.178, 6.1581, 6.4773, 5.0592, 6.2906, 5.5794, 5.0267, 5.9455, 5.5405,  6.342, 5.4614, 6.1924, 6.1942, 5.8713, 5.7975, 5.5748, 6.4476, 5.7435,  6.278, 6.3555, 6.0418, 6.1428, 6.3753, 6.5458, 6.1446, 5.3242, 5.4423, 5.3909, 5.6425, 6.5115, 6.1942, 6.3611, 6.4097, 5.8272, 5.9256, 5.5947, 6.0075, 6.3087, 5.6758, 5.0096, 5.8597,   6.04, 5.9589, 6.0418, 4.8285, 5.8264, 6.9718,  6.117, 6.8661, 6.6623, 6.7517, 7.4466, 5.5833, 7.2428, 6.6298, 7.2035, 6.3334, 6.2829, 6.5345, 5.9034,  6.009, 6.4047,  6.629, 7.8947,  7.434, 5.9122, 6.7364, 5.9692, 7.4619, 5.9827, 6.8491, 7.1428, 5.9493, 6.1315, 6.5182, 6.9408, 6.9959,  7.709, 6.4867, 6.2927, 6.6396,  6.969, 6.7212, 6.6786, 6.0485, 6.5011, 6.5724, 6.1893,  6.117, 6.9023,  6.723, 6.2226, 5.9349, 6.3172, 6.5869, 6.2973 ],\\\\n\\\\\"lwr\\\\\": [ 4.9163, 4.6478, 4.6804, 4.7878, 4.9607, 5.2783, 4.8351, 4.9509, 4.5871, 4.8162, 5.0863, 5.0311, 4.6794, 4.4313, 4.9448, 5.2951, 4.9338, 4.8847, 5.2671, 5.1014, 5.1094, 5.0246, 4.6101, 4.9405, 5.2614, 4.8078, 4.9611,  4.999, 4.8687, 4.9244, 4.8671, 4.8776,  5.256, 5.1892, 4.7878, 4.5951, 4.8315, 4.9814, 4.5654, 4.9509, 4.7983, 4.0814, 4.6804, 4.9159, 5.3983, 4.6083, 5.2087, 4.7637, 5.0863, 4.8177, 6.3771, 6.1858, 6.4599, 5.3802, 6.0773, 6.0651, 6.3559, 4.9154, 6.1905, 5.4739, 4.8758, 5.8422, 5.4105, 6.2418, 5.3338, 6.0937, 6.0971, 5.7491, 5.6424, 5.4706,  6.303, 5.6509, 6.1382, 6.2369, 5.9522, 6.0505, 6.2668, 6.4102, 6.0485, 5.1916, 5.3325, 5.2692, 5.5457, 6.3653, 6.0971, 6.2306, 6.3045, 5.7071, 5.8264, 5.4963, 5.9078, 6.2116, 5.5826, 4.8644, 5.7733, 5.9337, 5.8688, 5.9522, 4.6575, 5.7378, 6.8274,  6.014, 6.7705, 6.5534, 6.6533, 7.2874,  5.431, 7.0774,  6.494, 7.0531, 6.2176, 6.1865, 6.4452, 5.7758, 5.8322, 6.2741, 6.5201, 7.7097, 7.2139, 5.7459, 6.6261, 5.8493, 7.2748, 5.8662, 6.7506, 6.9976, 5.8252, 6.0065, 6.4223, 6.7727, 6.8642, 7.5205, 6.3776, 6.1331,  6.442,  6.848, 6.5846, 6.5639, 5.9161, 6.4067, 6.4381, 6.0434,  6.014, 6.7931, 6.5721, 6.0844, 5.8155, 6.2195, 6.4551, 6.1837 ],\\\\n\\\\\"upr\\\\\": [ 5.0933, 4.8659, 4.8658, 4.9909,  5.148, 5.4994, 5.0123, 5.1254, 4.8274, 5.0255, 5.2875,  5.211, 4.8973, 4.6478,  5.229, 5.6469, 5.1806, 5.0618, 5.4745, 5.3086, 5.2986, 5.2232, 4.8352, 5.1792, 5.4783, 5.0376, 5.1549, 5.1764, 5.0417, 5.1193, 5.0775, 5.0726, 5.5775, 5.5147, 4.9909, 4.7852, 5.0123, 5.1904, 4.7824, 5.1254, 4.9824, 4.5092, 4.8658, 5.1732,  5.612, 4.8423, 5.4301, 4.9484, 5.2875, 4.9935, 6.6044,  6.401, 6.6912, 5.6109, 6.2786, 6.2511, 6.5988,  5.203, 6.3907,  5.685, 5.1776, 6.0487, 5.6704, 6.4422, 5.5889, 6.2911, 6.2914, 5.9936, 5.9526,  5.679, 6.5922, 5.8361, 6.4178,  6.474, 6.1315, 6.2351, 6.4839, 6.6814, 6.2408, 5.4569, 5.5521, 5.5126, 5.7393, 6.6577, 6.2914, 6.4916, 6.5149, 5.9473, 6.0247, 5.6931, 6.1072, 6.4057,  5.769, 5.1548, 5.9462, 6.1464,  6.049, 6.1315, 4.9995,  5.915, 7.1161,   6.22, 6.9618, 6.7713, 6.8501, 7.6058, 5.7356, 7.4082, 6.7656, 7.3538, 6.4493, 6.3792, 6.6237,  6.031, 6.1858, 6.5354, 6.7379, 8.0798, 7.6541, 6.0785, 6.8468, 6.0892,  7.649, 6.0992, 6.9475,  7.288, 6.0735, 6.2564, 6.6141, 7.1089, 7.1275, 7.8975, 6.5957, 6.4522, 6.8373,   7.09, 6.8578, 6.7933, 6.1809, 6.5955, 6.7068, 6.3352,   6.22, 7.0115, 6.8739, 6.3609, 6.0543, 6.4149, 6.7186, 6.4109 ] \\\\n}\" \\n}'"
      ]
     },
     "execution_count": 16,
     "metadata": {},
     "output_type": "execute_result"
    }
   ],
   "source": [
    "s.predict('iris', json)"
   ]
  },
  {
   "cell_type": "code",
   "execution_count": null,
   "metadata": {
    "collapsed": true
   },
   "outputs": [],
   "source": []
  }
 ],
 "metadata": {
  "kernelspec": {
   "display_name": "Python 2",
   "language": "python",
   "name": "python2"
  },
  "language_info": {
   "codemirror_mode": {
    "name": "ipython",
    "version": 2
   },
   "file_extension": ".py",
   "mimetype": "text/x-python",
   "name": "python",
   "nbconvert_exporter": "python",
   "pygments_lexer": "ipython2",
   "version": "2.7.11"
  }
 },
 "nbformat": 4,
 "nbformat_minor": 0
}
